{
 "cells": [
  {
   "cell_type": "code",
   "execution_count": 153,
   "metadata": {},
   "outputs": [],
   "source": [
    "import numpy as np"
   ]
  },
  {
   "cell_type": "code",
   "execution_count": 154,
   "metadata": {},
   "outputs": [],
   "source": [
    "x=[1,2,3,4,5,6]\n",
    "y=[5,4,6,5,6,7]\n",
    "x_np=np.array(x,dtype=float)\n",
    "y_np=np.array(y,dtype=float)\n",
    "#z=x_np*y_np\n",
    "#print (z)\n",
    "#print (len(x_np))\n",
    "#print (type(x_np))\n",
    "#send x-np and y_np"
   ]
  },
  {
   "cell_type": "code",
   "execution_count": 155,
   "metadata": {},
   "outputs": [],
   "source": [
    "#best  fit slope funcion\n",
    "\n",
    "\n",
    "def best_fit(x,y):\n",
    "    \n",
    "    #calculate m in y=mx + b\n",
    "    x_mean=mean(x)\n",
    "    y_mean=mean(y)\n",
    "    \n",
    "    xy_np=x*y\n",
    "    \n",
    "    xy_mean=mean(xy_np)\n",
    "    \n",
    "    m=(((x_mean*y_mean) - (xy_mean))/((x_mean**2) - (y_mean**2)))\n",
    "    \n",
    "    b=(y_mean - (m*x_mean))\n",
    "    \n",
    "    return m,b\n",
    "\n",
    "#needed to calculate m and b in line y=mx + b  \n",
    "    "
   ]
  },
  {
   "cell_type": "code",
   "execution_count": 156,
   "metadata": {},
   "outputs": [
    {
     "data": {
      "text/plain": [
       "'def mean(some_list):\\n    \\n    list_sum=0.0\\n    #some_list_len=len(some_list)\\n    for i in some_list:\\n            list_sum=list_sum+i\\n    #print (type(some_list))        \\n    mean=list_sum/len(some_list)\\n    \\n    return mean'"
      ]
     },
     "execution_count": 156,
     "metadata": {},
     "output_type": "execute_result"
    }
   ],
   "source": [
    "\"\"\"def mean(some_list):\n",
    "    \n",
    "    list_sum=0.0\n",
    "    #some_list_len=len(some_list)\n",
    "    for i in some_list:\n",
    "            list_sum=list_sum+i\n",
    "    #print (type(some_list))        \n",
    "    mean=list_sum/len(some_list)\n",
    "    \n",
    "    return mean\"\"\""
   ]
  },
  {
   "cell_type": "code",
   "execution_count": 157,
   "metadata": {},
   "outputs": [
    {
     "name": "stdout",
     "output_type": "stream",
     "text": [
      "0.06944444444444445 5.256944444444445\n"
     ]
    }
   ],
   "source": [
    "m,b=best_fit(x_np,y_np)\n",
    "\n",
    "print (m,b)"
   ]
  },
  {
   "cell_type": "code",
   "execution_count": 158,
   "metadata": {},
   "outputs": [
    {
     "name": "stdout",
     "output_type": "stream",
     "text": [
      "[5.326388888888889, 5.395833333333334, 5.465277777777778, 5.534722222222222, 5.604166666666667, 5.673611111111112]\n",
      "6\n",
      "<class 'list'>\n"
     ]
    }
   ],
   "source": [
    "regression_line=[((m*i) + b)  for i in x_np]\n",
    "print (regression_line)\n",
    "print (len(regression_line))\n",
    "print (type(regression_line))\n",
    "regression_line_np=np.array(regression_line)"
   ]
  },
  {
   "cell_type": "code",
   "execution_count": 159,
   "metadata": {},
   "outputs": [],
   "source": [
    "import matplotlib.pyplot as plt\n",
    "from matplotlib import style\n",
    "style.use('fivethirtyeight')"
   ]
  },
  {
   "cell_type": "code",
   "execution_count": 160,
   "metadata": {},
   "outputs": [
    {
     "data": {
      "image/png": "[encoded data removed]",
      "text/plain": [
       "<Figure size 432x288 with 1 Axes>"
      ]
     },
     "metadata": {},
     "output_type": "display_data"
    }
   ],
   "source": [
    "plt.scatter(x_np,y_np,c='r')\n",
    "plt.plot(x_np,regression_line,'--')\n",
    "plt.show()"
   ]
  },
  {
   "cell_type": "code",
   "execution_count": 161,
   "metadata": {},
   "outputs": [],
   "source": [
    "#we have our regression line now we need mean line to calcurate suared error\n",
    "#input in funtion below has to be numpy array\n",
    "def squared_error(y_s,y_s_line):   #i dont understand why only Y points are being negated \n",
    "    return sum((y_s - y_s_line)**2)\n",
    "#squared error=sum of square of distances between points and regression line created above"
   ]
  },
  {
   "cell_type": "code",
   "execution_count": 166,
   "metadata": {},
   "outputs": [],
   "source": [
    "def R_squared_error(regression_line,y):\n",
    "    mean_line=np.array([mean(y) for y_s in y])\n",
    "    sqr_err_meanline=squared_error(y,mean_line)\n",
    "    sqr_err_reg_line=squared_error(y,regression_line)\n",
    "    print (sqr_err_reg_line)\n",
    "    print (sqr_err_meanline)\n",
    "    return (1-(sqr_err_reg_line/sqr_err_meanline)),mean_line\n",
    "\n",
    "#R squared error =1-(squared_error_regressionline_to_cordinates/squared_error_regressionline_to _mean_line)"
   ]
  },
  {
   "cell_type": "code",
   "execution_count": 167,
   "metadata": {},
   "outputs": [
    {
     "name": "stdout",
     "output_type": "stream",
     "text": [
      "4.542727623456791\n",
      "5.5\n",
      "0.17404952300785614\n"
     ]
    }
   ],
   "source": [
    "R_sqr_error,meanline_np=R_squared_error(regression_line_np,y_np)\n",
    "print(R_sqr_error)  #why is this returning negative and abs_val more than 1 check?"
   ]
  },
  {
   "cell_type": "code",
   "execution_count": 168,
   "metadata": {},
   "outputs": [
    {
     "data": {
      "text/plain": [
       "[<matplotlib.lines.Line2D at 0x7f1211a36ef0>]"
      ]
     },
     "execution_count": 168,
     "metadata": {},
     "output_type": "execute_result"
    },
    {
     "data": {
      "image/png": "[encoded data removed]",
      "text/plain": [
       "<Figure size 432x288 with 1 Axes>"
      ]
     },
     "metadata": {},
     "output_type": "display_data"
    }
   ],
   "source": [
    "#our r_square is =0.17 which means \n",
    "plt.scatter(x_np,y_np,c=\"red\")\n",
    "plt.plot(regression_line_np,'--')\n",
    "plt.plot(meanline_np)"
   ]
  },
  {
   "cell_type": "code",
   "execution_count": 165,
   "metadata": {},
   "outputs": [],
   "source": [
    "#first complete regression then plot grphs matploylib with time important!\n",
    "#work on vacabs used in machine learning  and classify machine learning subject \n",
    "#then work on eahc concept practice th sarts\n"
   ]
  },
  {
   "cell_type": "code",
   "execution_count": null,
   "metadata": {},
   "outputs": [],
   "source": []
  }
 ],
 "metadata": {
  "kernelspec": {
   "display_name": "Python 3",
   "language": "python",
   "name": "python3"
  },
  "language_info": {
   "codemirror_mode": {
    "name": "ipython",
    "version": 3
   },
   "file_extension": ".py",
   "mimetype": "text/x-python",
   "name": "python",
   "nbconvert_exporter": "python",
   "pygments_lexer": "ipython3",
   "version": "3.6.4"
  }
 },
 "nbformat": 4,
 "nbformat_minor": 2
}
